{
 "cells": [
  {
   "cell_type": "code",
   "execution_count": 1,
   "id": "588b9231",
   "metadata": {},
   "outputs": [],
   "source": [
    "import pandas as pd\n",
    "import numpy as np\n",
    "import re\n",
    "\n",
    "import csv\n",
    "\n",
    "import json"
   ]
  },
  {
   "cell_type": "code",
   "execution_count": 2,
   "id": "9ee84608",
   "metadata": {},
   "outputs": [],
   "source": [
    "# Código para Straemlit\n",
    "\n",
    "#input_receta = df_recetas['Espaguetis integrales con pollo y verduras'].unique().str\n",
    "#input_receta"
   ]
  },
  {
   "cell_type": "code",
   "execution_count": 3,
   "id": "52f6adf4",
   "metadata": {},
   "outputs": [],
   "source": [
    "route = '../../../data/'"
   ]
  },
  {
   "cell_type": "code",
   "execution_count": 4,
   "id": "bbf75066",
   "metadata": {},
   "outputs": [
    {
     "data": {
      "text/html": [
       "<div>\n",
       "<style scoped>\n",
       "    .dataframe tbody tr th:only-of-type {\n",
       "        vertical-align: middle;\n",
       "    }\n",
       "\n",
       "    .dataframe tbody tr th {\n",
       "        vertical-align: top;\n",
       "    }\n",
       "\n",
       "    .dataframe thead th {\n",
       "        text-align: right;\n",
       "    }\n",
       "</style>\n",
       "<table border=\"1\" class=\"dataframe\">\n",
       "  <thead>\n",
       "    <tr style=\"text-align: right;\">\n",
       "      <th></th>\n",
       "      <th>nombre_receta</th>\n",
       "      <th>ingredientes</th>\n",
       "      <th>tiempo_dedicado_preparación_min</th>\n",
       "      <th>tiempo_cocinado_robot_min</th>\n",
       "      <th>numero_raciones</th>\n",
       "      <th>kcal_por_racion</th>\n",
       "      <th>px_receta_mercadona</th>\n",
       "      <th>px_ración_mercadona</th>\n",
       "      <th>px_receta_dia</th>\n",
       "      <th>px_ración_dia</th>\n",
       "      <th>px_receta_carrefour</th>\n",
       "      <th>px_ración_carrefour</th>\n",
       "    </tr>\n",
       "  </thead>\n",
       "  <tbody>\n",
       "    <tr>\n",
       "      <th>0</th>\n",
       "      <td>lentejas estofadas</td>\n",
       "      <td>['350 g de lentejas castellanas secas', '50 g ...</td>\n",
       "      <td>10</td>\n",
       "      <td>45</td>\n",
       "      <td>6</td>\n",
       "      <td>270</td>\n",
       "      <td>2.25</td>\n",
       "      <td>0.38</td>\n",
       "      <td>2.67</td>\n",
       "      <td>0.44</td>\n",
       "      <td>2.35</td>\n",
       "      <td>0.39</td>\n",
       "    </tr>\n",
       "    <tr>\n",
       "      <th>1</th>\n",
       "      <td>Garbanzos con tomate, piquillos y atún</td>\n",
       "      <td>['2 dientes de ajo', '300 g de cebolla en troz...</td>\n",
       "      <td>10</td>\n",
       "      <td>45</td>\n",
       "      <td>6</td>\n",
       "      <td>247</td>\n",
       "      <td>5.24</td>\n",
       "      <td>0.87</td>\n",
       "      <td>5.70</td>\n",
       "      <td>0.95</td>\n",
       "      <td>5.56</td>\n",
       "      <td>0.93</td>\n",
       "    </tr>\n",
       "    <tr>\n",
       "      <th>2</th>\n",
       "      <td>Arroz tres delicias</td>\n",
       "      <td>['100 - 150 g de jamón cocido en trozos grueso...</td>\n",
       "      <td>15</td>\n",
       "      <td>40</td>\n",
       "      <td>6</td>\n",
       "      <td>346</td>\n",
       "      <td>4.52</td>\n",
       "      <td>0.75</td>\n",
       "      <td>4.65</td>\n",
       "      <td>0.78</td>\n",
       "      <td>5.10</td>\n",
       "      <td>0.85</td>\n",
       "    </tr>\n",
       "    <tr>\n",
       "      <th>3</th>\n",
       "      <td>Espaguetis integrales con pollo y verduras</td>\n",
       "      <td>['200 g de cebolla en cuartos', '1 diente de a...</td>\n",
       "      <td>15</td>\n",
       "      <td>25</td>\n",
       "      <td>6</td>\n",
       "      <td>359</td>\n",
       "      <td>5.17</td>\n",
       "      <td>0.86</td>\n",
       "      <td>6.08</td>\n",
       "      <td>1.01</td>\n",
       "      <td>5.14</td>\n",
       "      <td>0.86</td>\n",
       "    </tr>\n",
       "    <tr>\n",
       "      <th>4</th>\n",
       "      <td>Garbanzos en salsa verde con salmón</td>\n",
       "      <td>['10 ramitas de perejil fresco limpio y seco (...</td>\n",
       "      <td>10</td>\n",
       "      <td>25</td>\n",
       "      <td>4</td>\n",
       "      <td>488</td>\n",
       "      <td>12.30</td>\n",
       "      <td>3.08</td>\n",
       "      <td>12.01</td>\n",
       "      <td>3.00</td>\n",
       "      <td>14.78</td>\n",
       "      <td>3.70</td>\n",
       "    </tr>\n",
       "  </tbody>\n",
       "</table>\n",
       "</div>"
      ],
      "text/plain": [
       "                                nombre_receta  \\\n",
       "0                          lentejas estofadas   \n",
       "1      Garbanzos con tomate, piquillos y atún   \n",
       "2                         Arroz tres delicias   \n",
       "3  Espaguetis integrales con pollo y verduras   \n",
       "4         Garbanzos en salsa verde con salmón   \n",
       "\n",
       "                                        ingredientes  \\\n",
       "0  ['350 g de lentejas castellanas secas', '50 g ...   \n",
       "1  ['2 dientes de ajo', '300 g de cebolla en troz...   \n",
       "2  ['100 - 150 g de jamón cocido en trozos grueso...   \n",
       "3  ['200 g de cebolla en cuartos', '1 diente de a...   \n",
       "4  ['10 ramitas de perejil fresco limpio y seco (...   \n",
       "\n",
       "   tiempo_dedicado_preparación_min  tiempo_cocinado_robot_min  \\\n",
       "0                               10                         45   \n",
       "1                               10                         45   \n",
       "2                               15                         40   \n",
       "3                               15                         25   \n",
       "4                               10                         25   \n",
       "\n",
       "   numero_raciones  kcal_por_racion  px_receta_mercadona  px_ración_mercadona  \\\n",
       "0                6              270                 2.25                 0.38   \n",
       "1                6              247                 5.24                 0.87   \n",
       "2                6              346                 4.52                 0.75   \n",
       "3                6              359                 5.17                 0.86   \n",
       "4                4              488                12.30                 3.08   \n",
       "\n",
       "   px_receta_dia  px_ración_dia  px_receta_carrefour  px_ración_carrefour  \n",
       "0           2.67           0.44                 2.35                 0.39  \n",
       "1           5.70           0.95                 5.56                 0.93  \n",
       "2           4.65           0.78                 5.10                 0.85  \n",
       "3           6.08           1.01                 5.14                 0.86  \n",
       "4          12.01           3.00                14.78                 3.70  "
      ]
     },
     "execution_count": 4,
     "metadata": {},
     "output_type": "execute_result"
    }
   ],
   "source": [
    "df = pd.read_csv(route + 'df_recetas_con_precios.csv', index_col=0)\n",
    "df.head()"
   ]
  },
  {
   "cell_type": "code",
   "execution_count": 5,
   "id": "375be44f",
   "metadata": {},
   "outputs": [
    {
     "data": {
      "text/plain": [
       "array(['lentejas estofadas', 'Garbanzos con tomate, piquillos y atún',\n",
       "       'Arroz tres delicias',\n",
       "       'Espaguetis integrales con pollo y verduras',\n",
       "       'Garbanzos en salsa verde con salmón'], dtype=object)"
      ]
     },
     "execution_count": 5,
     "metadata": {},
     "output_type": "execute_result"
    }
   ],
   "source": [
    "df['nombre_receta'].unique()"
   ]
  },
  {
   "cell_type": "code",
   "execution_count": 6,
   "id": "b3fb1d07",
   "metadata": {},
   "outputs": [
    {
     "data": {
      "text/plain": [
       "array(['lentejas estofadas', 'Arroz tres delicias'], dtype=object)"
      ]
     },
     "execution_count": 6,
     "metadata": {},
     "output_type": "execute_result"
    }
   ],
   "source": [
    "df[df['px_receta_mercadona']<5]['nombre_receta'].unique()"
   ]
  },
  {
   "cell_type": "code",
   "execution_count": 7,
   "id": "c1135b62",
   "metadata": {
    "scrolled": true
   },
   "outputs": [
    {
     "data": {
      "text/plain": [
       "2"
      ]
     },
     "execution_count": 7,
     "metadata": {},
     "output_type": "execute_result"
    }
   ],
   "source": [
    "int(np.ceil(df[df['numero_raciones']==6][['px_ración_mercadona', 'px_ración_dia']].max(axis=1).max(axis=0)))"
   ]
  },
  {
   "cell_type": "code",
   "execution_count": 8,
   "id": "93ed989d",
   "metadata": {},
   "outputs": [
    {
     "data": {
      "text/plain": [
       "1.01"
      ]
     },
     "execution_count": 8,
     "metadata": {},
     "output_type": "execute_result"
    }
   ],
   "source": [
    "df[df['numero_raciones']==6][['px_ración_mercadona', 'px_ración_dia']].max(axis=1).max(axis=0)"
   ]
  },
  {
   "cell_type": "code",
   "execution_count": 9,
   "id": "58936f34",
   "metadata": {},
   "outputs": [],
   "source": [
    "j = df[df['px_receta_mercadona'] <= 5]"
   ]
  },
  {
   "cell_type": "code",
   "execution_count": 10,
   "id": "6944dd4b",
   "metadata": {},
   "outputs": [
    {
     "data": {
      "text/plain": [
       "array(['lentejas estofadas', 'Arroz tres delicias'], dtype=object)"
      ]
     },
     "execution_count": 10,
     "metadata": {},
     "output_type": "execute_result"
    }
   ],
   "source": [
    "j['nombre_receta'].unique()"
   ]
  },
  {
   "cell_type": "code",
   "execution_count": 11,
   "id": "4050f825",
   "metadata": {},
   "outputs": [
    {
     "data": {
      "text/plain": [
       "array(['lentejas estofadas', 'Arroz tres delicias'], dtype=object)"
      ]
     },
     "execution_count": 11,
     "metadata": {},
     "output_type": "execute_result"
    }
   ],
   "source": [
    "df[df['px_receta_mercadona'] <= 5]['nombre_receta'].unique()"
   ]
  },
  {
   "cell_type": "code",
   "execution_count": 17,
   "id": "7af2355b",
   "metadata": {},
   "outputs": [],
   "source": [
    "df[\"ingredientes\"] = df[\"ingredientes\"].apply(eval)"
   ]
  },
  {
   "cell_type": "code",
   "execution_count": 35,
   "id": "1c1223eb",
   "metadata": {},
   "outputs": [
    {
     "name": "stdout",
     "output_type": "stream",
     "text": [
      "350 g de lentejas castellanas secas\n",
      "50 g de pimiento rojo en trozos 3-4 cm\n",
      "50 g de pimiento verde en trozos 3-4 cm\n",
      "50 g de zanahoria en trozos 3-4 cm\n",
      "50 g de cebolleta en trozos 3-4 cm\n",
      "o bien 50 g de cebolla en trozos 3-4 cm\n",
      "25 g de aceite de oliva\n",
      "1 cucharadita de sal\n",
      "1 cucharadita de pimentón\n",
      "1 pastilla de caldo de pollo\n",
      "50 g de chorizo en rodajas\n",
      "50 g de jamón curado en dados\n",
      "900 g de agua\n"
     ]
    }
   ],
   "source": [
    "my = df[\"ingredientes\"][0]\n",
    "for i in my:\n",
    "    print(i)"
   ]
  },
  {
   "cell_type": "code",
   "execution_count": 30,
   "id": "d73362a7",
   "metadata": {},
   "outputs": [
    {
     "data": {
      "text/plain": [
       "'350 g de lentejas castellanas secas, 50 g de pimiento rojo en trozos 3-4 cm, 50 g de pimiento verde en trozos 3-4 cm, 50 g de zanahoria en trozos 3-4 cm, 50 g de cebolleta en trozos 3-4 cm, o bien 50 g de cebolla en trozos 3-4 cm, 25 g de aceite de oliva, 1 cucharadita de sal, 1 cucharadita de pimentón, 1 pastilla de caldo de pollo, 50 g de chorizo en rodajas, 50 g de jamón curado en dados, 900 g de agua'"
      ]
     },
     "execution_count": 30,
     "metadata": {},
     "output_type": "execute_result"
    }
   ],
   "source": [
    "', '.join(my)"
   ]
  },
  {
   "cell_type": "code",
   "execution_count": null,
   "id": "fcbad1d2",
   "metadata": {},
   "outputs": [],
   "source": []
  }
 ],
 "metadata": {
  "kernelspec": {
   "display_name": "Python [conda env:.conda-tapertece]",
   "language": "python",
   "name": "conda-env-.conda-tapertece-py"
  },
  "language_info": {
   "codemirror_mode": {
    "name": "ipython",
    "version": 3
   },
   "file_extension": ".py",
   "mimetype": "text/x-python",
   "name": "python",
   "nbconvert_exporter": "python",
   "pygments_lexer": "ipython3",
   "version": "3.10.6"
  }
 },
 "nbformat": 4,
 "nbformat_minor": 5
}
