{
 "cells": [
  {
   "cell_type": "code",
   "execution_count": 1,
   "id": "b21274d2",
   "metadata": {},
   "outputs": [],
   "source": [
    "import pandas as pd\n",
    "import numpy as np\n",
    "import re\n",
    "\n",
    "import csv\n",
    "import json"
   ]
  },
  {
   "cell_type": "code",
   "execution_count": 2,
   "id": "927d7267",
   "metadata": {},
   "outputs": [],
   "source": [
    "route = '../../../data/'"
   ]
  },
  {
   "cell_type": "code",
   "execution_count": 3,
   "id": "cc4941ac",
   "metadata": {},
   "outputs": [],
   "source": [
    "df_clean = pd.read_csv(route + 'datamarket_clean_unique.csv')"
   ]
  },
  {
   "cell_type": "code",
   "execution_count": 12,
   "id": "e5961afd",
   "metadata": {},
   "outputs": [
    {
     "data": {
      "text/plain": [
       "{'ecb81249f1dea9150ee04ed7a178029e': 'lenteja',\n",
       " 'c71150390be4bd6853c9449a8cff62eb': 'pimiento verde',\n",
       " '43c81c10c1d9eb52b2410de54f274c9d': 'pimiento rojo',\n",
       " 'c0ac3da899e51308db2492c91aebbcb2': 'zanahoria',\n",
       " 'b2b8c39d71440a4cba62b86f31ce15e7': 'cebolletar',\n",
       " '2f4a5c7049e822ce171768cde7bd2e76': 'cebolla',\n",
       " '488e146ef0d8864d12b7ea721d8de22a': 'aceite olivo virgen extra',\n",
       " 'e4b0fed91e0f81060e98ed076ebe39e4': 'aceite olivo',\n",
       " '14efd535d750388baa8122354a3bf2ff': 'sal',\n",
       " '370579b0cb90786d050efc5026103a3f': 'pimentón',\n",
       " '74270a2e828834e1dc65088ac8947be5': 'pastilla de caldo de pollo',\n",
       " '9161c686d13e241ab7af3f7ef1c191b0': 'caldo',\n",
       " '4cb684b2f6a44a7d56f7d49b0a265f17': 'chorizo',\n",
       " 'f06a69f6ac8f49bfb052af3e0f614998': 'jamón curado dado',\n",
       " 'c1e1a4c9d0af6984f9c1da705b025be1': 'agua',\n",
       " 'fd8b87c9d8cd9c6c80cad59278ee37f3': 'diente ajo',\n",
       " '32d27a8b219ef9776eea1b48ee66f0cb': 'tomate troceado conserva',\n",
       " '2110b3edfbc5aed2a0f8e8525095dad7': 'pimiento piquillo conserva',\n",
       " 'bf205f68e2169ec994522c3c5d93070f': 'azúcar',\n",
       " 'aa206cb967b87e467daf20c37be797d9': 'pimienta negra molido',\n",
       " 'a3ea4cdca6b7618cbc56c82463836ee7': 'comino molido',\n",
       " '1b6143c9e0fb7281c16e982a4c223bb0': 'garbanzo cocido',\n",
       " '123d6cf8e787bca42c4b586e2b87bfad': 'atún aceite',\n",
       " '024056e98e42279f9e0d8a3ced58246d': 'jamón cocido',\n",
       " '3148ad91ad5a9b4265b5274d437f7610': 'huevos',\n",
       " '64670fb4c32a678f7d28c73b1041f268': 'arroz basmati',\n",
       " '5df98b1dd3fc0d76d5f5d6772256b324': 'guisant fresco',\n",
       " '89e85241bd9ec8d7332fa06b6e29c947': 'guisant congelado',\n",
       " 'e42a13f246bdd6a0b266ba06bd3b795b': 'gamba crudo',\n",
       " 'e115f52806d044c7b44251d534794b1f': 'ramillet coliflor',\n",
       " 'dfcadd8a19e324a04423184e85709e89': 'calabacín',\n",
       " '87c63535a1bc2217c46ea121319e8d7d': 'judía verde frasco',\n",
       " '850b8253ff1441105d80333dfccc1b20': 'judía verde congelado',\n",
       " '991cba9c503ef0177a4635e29d6bd2fa': 'judía verde fresco',\n",
       " 'aca1bf18f20cdcffc7e4f5d03f697d5c': 'champiñón fresco laminado',\n",
       " '1655ef1a8cd78eb59211ec5853614400': 'espagueti integral',\n",
       " '3dd148b3360067c952b13ef32779a2e7': 'contramuslo pollo',\n",
       " '2d9af60a0180da7e4f6287ee674fb4a6': 'pechuga pollo',\n",
       " 'b66c106f3ebd432e7d11380acb51cc1c': 'salsar soja',\n",
       " '5c0cbcb4e909354ae3de499dd39365c4': 'perejil fresco',\n",
       " '912fd8c508de2a064b4affe3a65fcc7f': 'lomo salmón fresco',\n",
       " 'e9095486062aeb7d08ee9c689cc12a6b': 'caldo pescado',\n",
       " 'eff9faefefe563beb00834e5d410bfb1': 'venir blanco',\n",
       " 'd75046d6c0139febdd2be65b5e0dc916': 'berenjenar',\n",
       " '37f7c14bab00e244791009b32ff7ea29': 'pimiento amarillo',\n",
       " '3c3c46f695230ebf1241b4589f27c600': 'puerro',\n",
       " 'a3273fbf29dbde4f756c188ce9f2ba17': 'tomillo seco',\n",
       " '3c3c2a9c5f886f32eef6beff7a2c05a0': 'pechuga pavo',\n",
       " '2300fcdf87f66cce358fb939921e97e7': 'tomate triturado',\n",
       " '62b2ec3809bd42ebfc5c5bfec3b994fe': 'arroz redondo',\n",
       " '37b0e627bbe1a7fe7211e7e782e01367': 'colorante alimentario',\n",
       " '1db0aed2d8e3f844521ff0282c12e9bc': 'hebra azafer',\n",
       " '564ed3e8d3726c611da7161bed845c45': 'calamar fresco',\n",
       " 'a4bc5c0170d861f5082225b9b62f813c': 'brandy',\n",
       " 'cf507cc42648bbd57821ccc88b0eb97e': 'bolsa tintar calamar',\n",
       " 'e0e4f4d02f82f5712144456f8426a365': 'fideo fideuá',\n",
       " '2279d9703061f6e87786168ee6f1458f': 'placa lasaño seco',\n",
       " '83dca36ff54e06879a2d14d2f4120859': 'tomate maduro',\n",
       " 'e69ad76bc0e4c32efa12a5d7c9e199cb': 'queso emmental rallado',\n",
       " 'da7ef546df8e21a55873dcd82c560902': 'nuez moscado molido',\n",
       " 'e2397ca5950a8abc40265fc166c9bad2': 'leche',\n",
       " 'a94178ae1988ef5106ca6bf5d67bebc4': 'mantequilla',\n",
       " 'e29645f44b8f745c0a81a408d100973b': 'espinaca fresco',\n",
       " '4ee8c2a09833bb70c3273e6d319a2835': 'espinaca troceada congelado',\n",
       " 'ce8140a649235ec70dcaa19efacf0fc2': 'maicena',\n",
       " 'e7998974d08042537ff1cef2e730fc1c': 'pan rallado',\n",
       " 'cb450318095e8a5a900e1983e22f0330': 'canela molido',\n",
       " '0a78a5e582ded6e9f623b0399102e368': 'carne picado mixto',\n",
       " '0f96ea89030f9ea719e03365952cc123': 'harina rebozar',\n",
       " '4e41a2dd0c4d9c7588061e19fb91df54': 'extracto buey',\n",
       " '839abd82070887655436dbda5c9aeed0': 'clavo molido',\n",
       " '115588048e3d76e8acf769fa3d498bff': 'piñón'}"
      ]
     },
     "execution_count": 12,
     "metadata": {},
     "output_type": "execute_result"
    }
   ],
   "source": [
    "# Opening JSON file\n",
    "with open(route + 'data_mercadona.json') as json_file:\n",
    "    a_mercadona = json.load(json_file)\n",
    "a_mercadona"
   ]
  },
  {
   "cell_type": "code",
   "execution_count": 5,
   "id": "68644c73",
   "metadata": {},
   "outputs": [
    {
     "data": {
      "text/plain": [
       "{'b26d51cb5be3aff71a71f87c8908b846': 'lenteja',\n",
       " 'dada7a323f98cbb8abd3b7a65f11da13': 'pimiento verde',\n",
       " '3b118605318ccdf76e4db430ef53f94c': 'pimiento rojo',\n",
       " '6d854922c4f8a5a5740991f3e7108da0': 'zanahoria',\n",
       " '06690951566cb9affcb7b886db944225': 'cebolletar',\n",
       " '9dff07cb2f5875147d574f3cd2eb52d7': 'cebolla',\n",
       " 'ff4bec68a3103927d5568c80482a6c54': 'aceite olivo virgen extra',\n",
       " '9e6edc9fb8588e953a8177db9c5fa2c5': 'aceite olivo',\n",
       " 'e453450e28331ea2f9d7b32f423f0ae0': 'sal',\n",
       " '213ebf1ba8e25da18f50e6770a6fb2bb': 'pimentón',\n",
       " '068082a32f9ba83d41c4db0df5087004': 'pastilla de caldo de pollo',\n",
       " '616df75e8d66ded901d003e282c3e062': 'caldo de pollo',\n",
       " '26b1a3be138796cd829876975f1d1b01': 'chorizo',\n",
       " '640a8ef50612a09e27d47a75f8ac10f4': 'jamón curado dado',\n",
       " 'c2790645ef08d7603f9acb25ecc96f70': 'agua',\n",
       " '7a9393a2992597b111da5b14fa16c1c5': 'diente ajo',\n",
       " 'adbd6277e8d208701b9ec82ec0e557cd': 'tomate troceado conserva',\n",
       " '2744830b16f0aa447e2216e9b6dca13b': 'pimiento piquillo conserva',\n",
       " '2f1c6f49d5b2a6ed34cd803138ff12d4': 'azúcar',\n",
       " '376f1234a2966d48b05fdfd840bf2969': 'pimienta negra molido',\n",
       " '6823864914b8e47b16a6b7a3549e9b9f': 'comino molido',\n",
       " '771bde9a62872b5153faff1d69685b40': 'garbanzo cocido',\n",
       " '7c75e3f0212bcdad21d4ba6e47e8cf5b': 'atún aceite',\n",
       " 'c0d8db2a6ae95cdacfad99bd16d66dd4': 'jamón cocido',\n",
       " 'f102f607a90e3bd769edab4dee5d1a22': 'huevos',\n",
       " 'c0a2448b84f158da5804e3ce4465a09f': 'arroz basmati',\n",
       " 'c735412cffaab2334e752236adac3ca3': 'guisant fresco',\n",
       " '8611d232680544c202036001c29d9d4b': 'guisant congelado',\n",
       " '7be7b9033d77fb0bb006e77373c7c0d0': 'gamba crudo',\n",
       " 'ba9571f3e4b0dcee1f6db5079c78469e': 'ramillet coliflor',\n",
       " 'd20d2f4f6f83d174ce70a6411af207d9': 'calabacín',\n",
       " '20ab76a0c057671b7d848bbda6551965': 'judía verde frasco',\n",
       " 'a74dbf1540315fd6091913d147346c20': 'judía verde congelado',\n",
       " '714bb9a9a81068631e3883c8af56d23f': 'judía verde fresco',\n",
       " '931a99581716ae44c9508e35d4ae46eb': 'champiñón fresco laminado',\n",
       " '036894e7c951571f2042173c22251a87': 'espagueti integral',\n",
       " 'cd8ce5872c384f6b95e09a887b5a2759': 'contramuslo pollo',\n",
       " '6d09c75e921233153ab9c7fe75ef81d6': 'pechuga pollo',\n",
       " '6e94e4771bf2c9c3a3c8aa21c572821d': 'salsar soja',\n",
       " 'ae0e07982bde5730508c68e0efbd8302': 'perejil fresco',\n",
       " '172f590487634c1055b9ad23057faa02': 'lomo salmón fresco',\n",
       " '34d36234cb763e0c01214cb5e991c0f3': 'caldo pescado',\n",
       " '19195a46cdf08c2d6c44afe2b4ed0451': 'venir blanco',\n",
       " 'bb0f0e9a2d436328b85e8c0f8a6b92b3': 'berenjenar',\n",
       " '5ba9ba6bd1625340e0d490497240970a': 'pimiento amarillo',\n",
       " '11a69b3702a822b15f809a15a16bab8b': 'puerro',\n",
       " 'eadaed5473e5cf8811b4209bf68a55c0': 'tomillo seco',\n",
       " 'a9758d019ac1599b8cc744303ce15ae3': 'pechuga pavo',\n",
       " 'ec833f57680f01105990219abcd04db5': 'tomate triturado',\n",
       " '2a57ba18f5d508d1701ff4f6aff63bb5': 'arroz redondo',\n",
       " 'f57375f8064281b736379f85caacc5fd': 'caldo',\n",
       " 'b2d6e681a850364429899e6288e431e1': 'colorante alimentario',\n",
       " 'a2a1d034df6c281b9991b62c728d3c92': 'calamar fresco',\n",
       " '16877122f2e94fb73f49fa8813e9b424': 'brandy',\n",
       " '098fdf6e6186acb3b1b6776ec037f3e7': 'bolsa tintar calamar',\n",
       " '6cc82aee18b84463f5b33af672d02b47': 'fideo fideuá',\n",
       " 'b12913eead922699184d3f427c539a16': 'placa lasaño seco',\n",
       " '18b14d2f004505388ad1c85a97def045': 'tomate maduro',\n",
       " '9fe4301a7022840608a8dd5c79bcdaa9': 'queso emmental rallado',\n",
       " '21eb9ae68b8ca86697935dcb5400ce62': 'nuez moscado molido',\n",
       " 'cdc0819d53ae6bfeac6170814aced501': 'leche',\n",
       " '5558f7059bee584192a5c53af191831f': 'mantequilla',\n",
       " 'a3cb768dab1ca8445e0fbf76c57e1cca': 'espinaca fresco',\n",
       " '8c0d33eeaa097cf74ff1193a62576af5': 'espinaca troceada congelado',\n",
       " '4467ffbb892a3b0da806695955d7eb4c': 'maicena',\n",
       " 'f987b992c869e997ae6e6e7b1dd2b5b7': 'pan rallado',\n",
       " '4bad4bb120c92400d46eb661eff4b9c4': 'canela molido',\n",
       " '4706bac222c69f1223561b623736a108': 'carne picado mixto',\n",
       " 'b9e3e470665a1813895ab15bf84c12ab': 'piñón',\n",
       " 'd920f900b58972f38720296cbebd0f56': 'harina rebozar',\n",
       " '4e41a2dd0c4d9c7588061e19fb91df54': 'extracto buey',\n",
       " '5bfb7f83d904198604a60ed822b8a61b': 'clavo molido',\n",
       " '2b863ac1ebbed62968332769c0203905': 'hebra azafer'}"
      ]
     },
     "execution_count": 5,
     "metadata": {},
     "output_type": "execute_result"
    }
   ],
   "source": [
    "with open(route + 'data_dia.json') as json_file:\n",
    "    a_dia = json.load(json_file)\n",
    "a_dia"
   ]
  },
  {
   "cell_type": "code",
   "execution_count": 6,
   "id": "80aed82c",
   "metadata": {},
   "outputs": [
    {
     "data": {
      "text/plain": [
       "{'7d751158fe2567a81e991a0a572ce83f': 'lenteja',\n",
       " 'c86eacc22285ad2f5e907acce7cdb5c7': 'pimiento rojo',\n",
       " '53e9f777e840fd172ee8bae9747d61f6': 'zanahoria',\n",
       " '452cf4289710f6cb5edb3607fc646185': 'cebolletar',\n",
       " '9d368b1cf54fbb93051b576c09753663': 'cebolla',\n",
       " 'ec7cf862264cec9b1bc8344574840325': 'aceite olivo virgen extra',\n",
       " '276a2380dabc5045fcd8a869f60b88fc': 'aceite olivo',\n",
       " '5cd6ebfcd722da53b2e3dbdc7a535530': 'sal',\n",
       " 'd4b324b3a39f8ffcd7bf37cc1a98b38c': 'pimentón',\n",
       " 'd5430323125823fe208a1977a4e8e6fc': 'pastilla de caldo de pollo',\n",
       " 'c33ea2b6f4582b4e4c0579520bb41bcc': 'caldo',\n",
       " '411367289ea7cb6032db7d65f7286bf4': 'chorizo',\n",
       " '87074ba46a16a1e75e8e82ce6a0ec154': 'jamón curado dado',\n",
       " '97dc915b2efecc4be9db3d93635c4c19': 'agua',\n",
       " 'e85fa0fa9deef59040e440a058b676a0': 'diente ajo',\n",
       " '3a5a96c8fb4489d94de742abfc9f40e1': 'tomate troceado conserva',\n",
       " '004d6b13bdbfa5ba4945c9d645de3af9': 'pimiento piquillo conserva',\n",
       " '82ede0c9dd536b0d2d369e2e9a8e6fb2': 'azúcar',\n",
       " '127a3fc17b8bac1dfdb47ed6438d9e30': 'pimienta negra molido',\n",
       " 'dba1e37a060aa7614285f017c4fdac9a': 'comino molido',\n",
       " 'e1ea9bb4e7db5c8e6dc908bb01726950': 'garbanzo cocido',\n",
       " '67a0a92905656a1d9f19a5e5c618a043': 'atún aceite',\n",
       " '751009155a45c140d0f87f500d21d5ea': 'jamón cocido',\n",
       " '7fc09df5cb55a734e70a411bf326ea07': 'huevos',\n",
       " 'cd2697f65f9695fcb5596161aa4c5cfa': 'arroz basmati',\n",
       " '5f7ca1e2bd841015a8eeca04c10b3d03': 'guisant fresco',\n",
       " 'adec15927409b8e8d210177901adc82f': 'guisant congelado',\n",
       " 'a4827a92657d929c5115b6c6d921b7e0': 'gamba crudo',\n",
       " 'e20c34152e5ba491066c9562e6056bb0': 'pimiento verde',\n",
       " 'ae5e57b40fefc1fdf206beb154fb6b67': 'ramillet coliflor',\n",
       " '54beb5ef7c24d1a6940cd5adba76d1a4': 'calabacín',\n",
       " '504a14747c553b3d9f52d255e25e2e1a': 'judía verde frasco',\n",
       " '1bc1ffa528a08da323200bc899bcb057': 'judía verde congelado',\n",
       " 'f73b77b85102d8ec3a2eb6f3f5ca8efa': 'judía verde fresco',\n",
       " 'edc63554823ec63ac668a8253db1da93': 'champiñón fresco laminado',\n",
       " 'bda7754d9eef548fe13756957e29b303': 'espagueti integral',\n",
       " '6f39170b366f8c3c60b1da95f0b60b36': 'contramuslo pollo',\n",
       " '62a5930bf318eeba8c83b679cdf8a540': 'pechuga pollo',\n",
       " '4c95a4442b8bad73ba8790f52e66cc95': 'salsar soja',\n",
       " '924fd86b4bbe004bd3de9f66e90a1d81': 'perejil fresco',\n",
       " 'a4eecc6b3099a19ea65fd2598b5d1de9': 'lomo salmón fresco',\n",
       " 'f02a315ad24d97cf459a7b0a6ee2ee9b': 'caldo pescado',\n",
       " '101ff1636cc376c53ec5e781d93903b1': 'venir blanco',\n",
       " '1696ff35159f6335253e63d131f0da30': 'berenjenar',\n",
       " 'fe5928f84a5c85ecbfdce7b64b31e452': 'pimiento amarillo',\n",
       " '5f4ce6a8f4dffb2bda250e898b3e2355': 'puerro',\n",
       " '0af4514163a2821c1be8d5db7e20593c': 'tomillo seco',\n",
       " 'e54737870d1d401da9d83c215e713e4d': 'pechuga pavo',\n",
       " 'b6eae4e62086da9936900438d8153401': 'tomate triturado',\n",
       " '1af2d675b02cd311d33b460455e5805e': 'arroz redondo',\n",
       " '5566a1f1414236cfe5a5a0611dbd663d': 'colorante alimentario',\n",
       " '659371d5436c8b32c6a9fccdab9462bc': 'hebra azafer',\n",
       " '75b3fb9541179acc8029577d2e434e68': 'calamar fresco',\n",
       " 'f8d0ae950b7bc78edf2a2215001ccba8': 'brandy',\n",
       " 'ccbfccb06adb54e3800a73960067311a': 'bolsa tintar calamar',\n",
       " '6bdec296f2c940adbbca2e2d88ee72fc': 'fideo fideuá',\n",
       " '9b163d40c6d5f1dc8e0bf4bd47f4546d': 'placa lasaño seco',\n",
       " '37a3004b4c8f485fb95eff1845324488': 'tomate maduro',\n",
       " '8190ccad2a177a1817b24522d8a4978b': 'queso emmental rallado',\n",
       " 'f4ef0a65a65dd9724d4e8adfcd8d4b0c': 'nuez moscado molido',\n",
       " 'f2d47e58824279ec735ff3a44fcde4f5': 'leche',\n",
       " 'b0f652f769e4b5e86069860131f5e402': 'mantequilla',\n",
       " '5768ae37b42a87122bfbbf3e45836ebe': 'espinaca fresco',\n",
       " 'c3cdd29b2c37cbc47a9a73a02939547d': 'espinaca troceada congelado',\n",
       " 'b6e5f36211c779bcde8fe6522bf3aa8f': 'maicena',\n",
       " '910adb2612af26eb311fa4ae60d94516': 'pan rallado',\n",
       " '2dd7f157be62fd61a48b1d0e6894a2da': 'canela molido',\n",
       " '04437998bd386685e1c3572b08f1b077': 'carne picado mixto',\n",
       " 'd0ed6376e0508443e3c5f9ef48155e48': 'piñón',\n",
       " 'e9488b37f9154d0786d10d3d31e1d16c': 'harina rebozar',\n",
       " '4e41a2dd0c4d9c7588061e19fb91df54': 'extracto buey',\n",
       " '839abd82070887655436dbda5c9aeed0': 'clavo molido'}"
      ]
     },
     "execution_count": 6,
     "metadata": {},
     "output_type": "execute_result"
    }
   ],
   "source": [
    "with open(route + 'data_carrefour.json') as json_file:\n",
    "    a_carrefour = json.load(json_file)\n",
    "a_carrefour"
   ]
  },
  {
   "cell_type": "markdown",
   "id": "42bc5b56",
   "metadata": {},
   "source": [
    "### Revisión de las listas intermedias"
   ]
  },
  {
   "cell_type": "code",
   "execution_count": 13,
   "id": "e940af80",
   "metadata": {},
   "outputs": [
    {
     "name": "stdout",
     "output_type": "stream",
     "text": [
      "Mercadona tiene: 72\n",
      "Dia tiene: 73\n",
      "Carrefour tiene: 72\n"
     ]
    }
   ],
   "source": [
    "# Comprobando que todas tengan el mismo número de elementos\n",
    "\n",
    "print('Mercadona tiene:', len(a_mercadona))\n",
    "print('Dia tiene:', len(a_dia))\n",
    "print('Carrefour tiene:', len(a_carrefour))"
   ]
  },
  {
   "cell_type": "code",
   "execution_count": 14,
   "id": "4c11258a",
   "metadata": {},
   "outputs": [
    {
     "name": "stdout",
     "output_type": "stream",
     "text": [
      "Dif. entre Mercadona y Dia: []\n",
      "Dif. entre Mercadona y Carrefour: []\n",
      "Dif. entre Carrefour y Dia: []\n"
     ]
    }
   ],
   "source": [
    "# Comprobando que todas tengan el mismo valor para sus respectivas ID de producto\n",
    "\n",
    "print ('Dif. entre Mercadona y Dia:', list(set(list(a_mercadona.values())) - set(list(a_dia.values()))))\n",
    "print ('Dif. entre Mercadona y Carrefour:', list(set(list(a_mercadona.values())) - set(list(a_carrefour.values()))))\n",
    "print ('Dif. entre Carrefour y Dia:', list(set(list(a_carrefour.values())) - set(list(a_dia.values()))))"
   ]
  },
  {
   "cell_type": "markdown",
   "id": "0611ca84",
   "metadata": {},
   "source": [
    "### Revisión de las referencias en el listado de productos"
   ]
  },
  {
   "cell_type": "code",
   "execution_count": 9,
   "id": "d95ddd73",
   "metadata": {},
   "outputs": [],
   "source": [
    "# Definir una función que me crea un diccionario con las claves ID y sus respectivas fechas del precio del producto\n",
    "\n",
    "def comprobar_fechas(lista_intermedia, df_productos):\n",
    "    res = {}\n",
    "    a = []\n",
    "    \n",
    "    # creamos la lista con las fechas\n",
    "    for i in lista_intermedia:\n",
    "        a.append(df_productos[df_productos.product_id==i].Date.squeeze())\n",
    "    \n",
    "    #creamos un nuevo diccionario con producto ID y su fecha\n",
    "    for key in lista_intermedia:\n",
    "        for value in a:\n",
    "            res[key] = value\n",
    "            a.remove(value)\n",
    "            break\n",
    "            \n",
    "    return res"
   ]
  },
  {
   "cell_type": "code",
   "execution_count": 10,
   "id": "1a70f143",
   "metadata": {},
   "outputs": [
    {
     "name": "stdout",
     "output_type": "stream",
     "text": [
      "La fecha más actual es: 2022-11-04\n"
     ]
    }
   ],
   "source": [
    "# Comprobamos cuál es la fecha más actual, así como el nuevo diccionario resultante\n",
    "\n",
    "ids_fechas = comprobar_fechas(a_mercadona, df_clean)\n",
    "new_val = ids_fechas.values()\n",
    "maximum_val = max(new_val)\n",
    "\n",
    "print('La fecha más actual es:', maximum_val)"
   ]
  },
  {
   "cell_type": "code",
   "execution_count": 11,
   "id": "ec91b017",
   "metadata": {},
   "outputs": [],
   "source": [
    "# buscamos todos los IDs que no cumplan con la fecha máxima de actualización\n",
    "\n",
    "for key, value in ids_fechas.items():  \n",
    "    if value != '2022-11-04':\n",
    "        if value != '2022-11-03':\n",
    "            print(key, value)"
   ]
  },
  {
   "cell_type": "code",
   "execution_count": null,
   "id": "c030c5db",
   "metadata": {},
   "outputs": [],
   "source": []
  }
 ],
 "metadata": {
  "kernelspec": {
   "display_name": "Python [conda env:.conda-tapertece]",
   "language": "python",
   "name": "conda-env-.conda-tapertece-py"
  },
  "language_info": {
   "codemirror_mode": {
    "name": "ipython",
    "version": 3
   },
   "file_extension": ".py",
   "mimetype": "text/x-python",
   "name": "python",
   "nbconvert_exporter": "python",
   "pygments_lexer": "ipython3",
   "version": "3.10.6"
  }
 },
 "nbformat": 4,
 "nbformat_minor": 5
}
